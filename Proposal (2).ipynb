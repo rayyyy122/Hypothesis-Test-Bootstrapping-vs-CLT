{
 "cells": [
  {
   "cell_type": "markdown",
   "id": "aac0a183-e4a4-4946-b167-aae1dd5b60e2",
   "metadata": {},
   "source": [
    "# STAT 201 Proposal"
   ]
  },
  {
   "cell_type": "markdown",
   "id": "83b05cfe-bef5-4080-be15-8d3de690ecc4",
   "metadata": {},
   "source": [
    "## Group 11"
   ]
  },
  {
   "cell_type": "markdown",
   "id": "86d39295-c30b-4c9d-8ffc-754a45a9fb07",
   "metadata": {},
   "source": [
    "# Compare the delay rate of two populer airlines in the United States"
   ]
  },
  {
   "cell_type": "markdown",
   "id": "5a91c088-218c-4388-beca-233cb7de9819",
   "metadata": {},
   "source": [
    "## Introduction"
   ]
  },
  {
   "cell_type": "markdown",
   "id": "2fc5a3af-1e2a-4d0d-aca7-bbab9ab7bea2",
   "metadata": {},
   "source": [
    "### Basic Information\n",
    "\n",
    "As the demand of fast speed travel, taking plane becomes one of the most popular choice during the past several decades. At the same time, flight delay is most depressing but also sometimes not avoidable. For instance, among different airlines about 0% to 34% was delayed today (FlightAware, 2023).Therefore, the average delay rate of an airline has become a essential standard for customers to evaluate and choose a company. In this project, we will use the dataset that created by Ulrik Thyge Pedersen (2023) to find if there's a significant difference of the delay rate between two industry giants, Delta Airlines and American Airlines.\n",
    "\n",
    "### Research Question\n",
    "\n",
    "Is there a difference between the delay rate of flights operated by Delta Airlines and American Airlines?\n",
    "\n"
   ]
  },
  {
   "cell_type": "markdown",
   "id": "8b11f04a-73fa-415c-9f0b-a92030d0bc53",
   "metadata": {},
   "source": [
    "## Preliminary Result"
   ]
  },
  {
   "cell_type": "code",
   "execution_count": null,
   "id": "68dcc0f9-5008-4b25-8ca3-00bcc0fde123",
   "metadata": {},
   "outputs": [],
   "source": [
    "library(tidyverse)\n",
    "library(infer)\n"
   ]
  },
  {
   "cell_type": "code",
   "execution_count": null,
   "id": "2bf994fa-f2b5-48c2-9957-9b756372a200",
   "metadata": {},
   "outputs": [],
   "source": [
    "airlines_delay <- read.csv(\"airlines_delay.csv\", header = TRUE)\n",
    "\n",
    "head(airlines_delay)"
   ]
  },
  {
   "cell_type": "code",
   "execution_count": null,
   "id": "a46f91ce-9f6d-4d04-80cb-976d314811d3",
   "metadata": {},
   "outputs": [],
   "source": [
    "delay_data <- airlines_delay |> \n",
    "    filter(Airline %in% c(\"DL\", \"AA\")) |> \n",
    "    rename(Delay = Class) |>\n",
    "    filter(!is.na(Airline)) |> \n",
    "    filter(!is.na(Delay)) |>\n",
    "    mutate(Delay = as.factor(Delay)) |>\n",
    "    select(c(Airline, Delay))\n",
    "\n",
    "head(delay_data)"
   ]
  },
  {
   "cell_type": "code",
   "execution_count": null,
   "id": "f99bbd7c-6f7e-4898-b41d-55c60fef9c86",
   "metadata": {},
   "outputs": [],
   "source": [
    "plot <- delay_data |> \n",
    "    ggplot(aes(x = Airline, fill = Delay)) +\n",
    "    geom_bar(width = 0.5) + \n",
    "    ylab(\"the Number of Flights\") +\n",
    "    ggtitle(\"the Proportion of Delayed Flights of each Airlines\") +\n",
    "    scale_fill_discrete(name = \"Delay or Not\",\n",
    "                          breaks = c(\"0\", \"1\"),\n",
    "                          labels = c(\"No\", \"Yes\"))\n",
    "\n",
    "plot"
   ]
  },
  {
   "cell_type": "markdown",
   "id": "4f3561bf-31ee-4f04-ab52-9fd69f2e8b77",
   "metadata": {},
   "source": [
    "## Methods "
   ]
  },
  {
   "cell_type": "markdown",
   "id": "8e6b440e-2015-49e1-abd6-2db62f220284",
   "metadata": {},
   "source": [
    "In this project, we plan to use two different methods to conduct a hypothesis test about Discrepancy between the proportion of delayed flights operated by Delta Airlines and Amenrican Airline. First we will use bootstarpping method in the infer package and then we plan to use theory based approach to perform a hypothesis test. We will also construct confidence intervels for the difference between two proportions. We plan to conduct the hypothesis test at the most common significance level of $\\alpha = 0.05$. In the bootstraping approach, we will use permutation for the null model. For the theorem based one, we will use Central Limit Theorem two sample z test.  \n",
    "\n",
    "Our null and alternative hypothesis is:\n",
    "\n",
    "• $H_0 : p_1 = p_2$\n",
    "\n",
    "• $H_a : p_1 ≠ p_2$\n",
    "\n",
    "where:\n",
    "\n",
    "$p_1$ is the proportion of delayed flights in all flights operated by Delta Airlines\n",
    "\n",
    "$p_2$ is the proportion of delayed flights in all flights operated by American Airlines\n",
    "\n",
    "Based on the sample proportions and the graph above, we expect to reject the null hypothesis and accept the alternative that the delay rate of these two airlines is different. This project can help passengers to make a better choice when buying flight tickets and help invester to evaluate a airline company.\n",
    "  \n",
    "\n"
   ]
  },
  {
   "cell_type": "markdown",
   "id": "41f03ada-1738-4941-9d66-65d124713def",
   "metadata": {},
   "source": [
    "## Reference"
   ]
  },
  {
   "cell_type": "markdown",
   "id": "bb858aad-e1ec-4314-aa17-a20ea82fab2a",
   "metadata": {},
   "source": [
    "1. Carvalho, L., Sternberg, A., Maia Gonçalves, L., Beatriz Cruz, A., Soares, J. A., Brandão, D., Carvalho, D., &amp; Ogasawara, E. (2020). On the relevance of data science for Flight Delay Research: A systematic review. Transport Reviews, 41(4), 499–528. https://doi.org/10.1080/01441647.2020.1861123 \n",
    "\n",
    "2. FlightAware (2023). https://flightaware.com/live/cancelled/\n",
    "\n",
    "3. Pedersen, U. T. (2023).Airlines Delay. https://www.kaggle.com/datasets/ulrikthygepedersen/airlines-delay"
   ]
  },
  {
   "cell_type": "code",
   "execution_count": null,
   "id": "3ed5dc64-eaec-4aaa-b419-660ea90e1e2d",
   "metadata": {},
   "outputs": [],
   "source": []
  }
 ],
 "metadata": {
  "kernelspec": {
   "display_name": "R",
   "language": "R",
   "name": "ir"
  },
  "language_info": {
   "codemirror_mode": "r",
   "file_extension": ".r",
   "mimetype": "text/x-r-source",
   "name": "R",
   "pygments_lexer": "r",
   "version": "4.1.3"
  }
 },
 "nbformat": 4,
 "nbformat_minor": 5
}
