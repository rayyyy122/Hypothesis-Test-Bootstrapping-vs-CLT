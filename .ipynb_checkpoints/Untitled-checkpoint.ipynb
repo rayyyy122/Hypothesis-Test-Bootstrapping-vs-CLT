{
 "cells": [
  {
   "cell_type": "markdown",
   "id": "aac0a183-e4a4-4946-b167-aae1dd5b60e2",
   "metadata": {},
   "source": [
    "R"
   ]
  }
 ],
 "metadata": {
  "kernelspec": {
   "display_name": "R",
   "language": "R",
   "name": "ir"
  },
  "language_info": {
   "codemirror_mode": "r",
   "file_extension": ".r",
   "mimetype": "text/x-r-source",
   "name": "R",
   "pygments_lexer": "r",
   "version": "4.1.3"
  }
 },
 "nbformat": 4,
 "nbformat_minor": 5
}
