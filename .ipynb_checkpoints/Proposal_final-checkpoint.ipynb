{
 "cells": [
  {
   "cell_type": "markdown",
   "id": "aac0a183-e4a4-4946-b167-aae1dd5b60e2",
   "metadata": {},
   "source": [
    "# STAT 201 Proposal"
   ]
  },
  {
   "cell_type": "markdown",
   "id": "83b05cfe-bef5-4080-be15-8d3de690ecc4",
   "metadata": {},
   "source": [
    "## Group 11\n",
    "Ray Tao    \n",
    "Florence Wang    \n",
    "Lesley Mai    \n",
    "\n",
    "<hr style=\"opacity: 0.3\" />"
   ]
  },
  {
   "cell_type": "markdown",
   "id": "86d39295-c30b-4c9d-8ffc-754a45a9fb07",
   "metadata": {},
   "source": [
    "# Compare the delay rate of two popular airlines in the United States"
   ]
  },
  {
   "cell_type": "markdown",
   "id": "5a91c088-218c-4388-beca-233cb7de9819",
   "metadata": {},
   "source": [
    "## Introduction"
   ]
  },
  {
   "cell_type": "markdown",
   "id": "2fc5a3af-1e2a-4d0d-aca7-bbab9ab7bea2",
   "metadata": {},
   "source": [
    "### Basic Information\n",
    "\n",
    "As the demand of fast speed travel, taking plane becomes one of the most popular choice during the past several decades. At the same time, flight delay is most depressing but also sometimes not avoidable. For instance, among different airlines about 0% to 34% was delayed today (FlightAware, 2023).Therefore, the average delay rate of an airline has become a essential standard for customers to evaluate and choose a company. In this project, we will use the dataset that created by Ulrik Thyge Pedersen (2023) to find if there's a significant difference of the delay rate between two industry giants, Delta Airlines and American Airlines.\n",
    "\n",
    "### Research Question\n",
    "\n",
    "Is there a difference between the delay rate of flights operated by Delta Airlines and American Airlines?\n",
    "\n"
   ]
  },
  {
   "cell_type": "markdown",
   "id": "8b11f04a-73fa-415c-9f0b-a92030d0bc53",
   "metadata": {},
   "source": [
    "## Preliminary Result"
   ]
  },
  {
   "cell_type": "code",
   "execution_count": 1,
   "id": "68dcc0f9-5008-4b25-8ca3-00bcc0fde123",
   "metadata": {},
   "outputs": [
    {
     "name": "stderr",
     "output_type": "stream",
     "text": [
      "── \u001b[1mAttaching packages\u001b[22m ─────────────────────────────────────── tidyverse 1.3.2 ──\n",
      "\u001b[32m✔\u001b[39m \u001b[34mggplot2\u001b[39m 3.3.6      \u001b[32m✔\u001b[39m \u001b[34mpurrr  \u001b[39m 0.3.4 \n",
      "\u001b[32m✔\u001b[39m \u001b[34mtibble \u001b[39m 3.1.8      \u001b[32m✔\u001b[39m \u001b[34mdplyr  \u001b[39m 1.0.10\n",
      "\u001b[32m✔\u001b[39m \u001b[34mtidyr  \u001b[39m 1.2.1      \u001b[32m✔\u001b[39m \u001b[34mstringr\u001b[39m 1.4.1 \n",
      "\u001b[32m✔\u001b[39m \u001b[34mreadr  \u001b[39m 2.1.2      \u001b[32m✔\u001b[39m \u001b[34mforcats\u001b[39m 0.5.2 \n",
      "── \u001b[1mConflicts\u001b[22m ────────────────────────────────────────── tidyverse_conflicts() ──\n",
      "\u001b[31m✖\u001b[39m \u001b[34mdplyr\u001b[39m::\u001b[32mfilter()\u001b[39m masks \u001b[34mstats\u001b[39m::filter()\n",
      "\u001b[31m✖\u001b[39m \u001b[34mdplyr\u001b[39m::\u001b[32mlag()\u001b[39m    masks \u001b[34mstats\u001b[39m::lag()\n"
     ]
    }
   ],
   "source": [
    "library(tidyverse)\n",
    "library(infer)\n",
    "library(dplyr)"
   ]
  },
  {
   "cell_type": "markdown",
   "id": "dbfa364f-0b07-42b3-8fb0-adb80a03111e",
   "metadata": {},
   "source": [
    "### Load Data"
   ]
  },
  {
   "cell_type": "code",
   "execution_count": 2,
   "id": "2bf994fa-f2b5-48c2-9957-9b756372a200",
   "metadata": {},
   "outputs": [
    {
     "name": "stderr",
     "output_type": "stream",
     "text": [
      "Warning message in scan(file = file, what = what, sep = sep, quote = quote, dec = dec, :\n",
      "“EOF within quoted string”\n"
     ]
    }
   ],
   "source": [
    "airlines_delay <- read.csv(\"https://raw.githubusercontent.com/rayyyy122/STAT-201-Project/main/airlines_delay.csv\", header = TRUE)"
   ]
  },
  {
   "cell_type": "markdown",
   "id": "4d1d55c2-3d20-4b26-871f-52cffd7877dc",
   "metadata": {},
   "source": [
    "#### Raw Dataset"
   ]
  },
  {
   "cell_type": "code",
   "execution_count": 3,
   "id": "2612264e-4429-4998-91c4-e074fa4dae1f",
   "metadata": {},
   "outputs": [
    {
     "data": {
      "text/html": [
       "<table class=\"dataframe\">\n",
       "<caption>A data.frame: 6 × 1</caption>\n",
       "<thead>\n",
       "\t<tr><th></th><th scope=col>X..DOCTYPE.html.</th></tr>\n",
       "\t<tr><th></th><th scope=col>&lt;chr&gt;</th></tr>\n",
       "</thead>\n",
       "<tbody>\n",
       "\t<tr><th scope=row>1</th><td>&lt;html lang=en data-color-mode=auto data-light-theme=light data-dark-theme=dark data-a11y-animated-images=system&gt;</td></tr>\n",
       "\t<tr><th scope=row>2</th><td><span style=white-space:pre-wrap>  &lt;head&gt;                                                                                                        </span></td></tr>\n",
       "\t<tr><th scope=row>3</th><td><span style=white-space:pre-wrap>    &lt;meta charset=utf-8&gt;                                                                                        </span></td></tr>\n",
       "\t<tr><th scope=row>4</th><td><span style=white-space:pre-wrap>  &lt;link rel=dns-prefetch href=https://github.githubassets.com&gt;                                                  </span></td></tr>\n",
       "\t<tr><th scope=row>5</th><td><span style=white-space:pre-wrap>  &lt;link rel=dns-prefetch href=https://avatars.githubusercontent.com&gt;                                            </span></td></tr>\n",
       "\t<tr><th scope=row>6</th><td><span style=white-space:pre-wrap>  &lt;link rel=dns-prefetch href=https://github-cloud.s3.amazonaws.com&gt;                                            </span></td></tr>\n",
       "</tbody>\n",
       "</table>\n"
      ],
      "text/latex": [
       "A data.frame: 6 × 1\n",
       "\\begin{tabular}{r|l}\n",
       "  & X..DOCTYPE.html.\\\\\n",
       "  & <chr>\\\\\n",
       "\\hline\n",
       "\t1 & <html lang=en data-color-mode=auto data-light-theme=light data-dark-theme=dark data-a11y-animated-images=system>\\\\\n",
       "\t2 &   <head>                                                                                                        \\\\\n",
       "\t3 &     <meta charset=utf-8>                                                                                        \\\\\n",
       "\t4 &   <link rel=dns-prefetch href=https://github.githubassets.com>                                                  \\\\\n",
       "\t5 &   <link rel=dns-prefetch href=https://avatars.githubusercontent.com>                                            \\\\\n",
       "\t6 &   <link rel=dns-prefetch href=https://github-cloud.s3.amazonaws.com>                                            \\\\\n",
       "\\end{tabular}\n"
      ],
      "text/markdown": [
       "\n",
       "A data.frame: 6 × 1\n",
       "\n",
       "| <!--/--> | X..DOCTYPE.html. &lt;chr&gt; |\n",
       "|---|---|\n",
       "| 1 | &lt;html lang=en data-color-mode=auto data-light-theme=light data-dark-theme=dark data-a11y-animated-images=system&gt; |\n",
       "| 2 |   &lt;head&gt;                                                                                                         |\n",
       "| 3 |     &lt;meta charset=utf-8&gt;                                                                                         |\n",
       "| 4 |   &lt;link rel=dns-prefetch href=https://github.githubassets.com&gt;                                                   |\n",
       "| 5 |   &lt;link rel=dns-prefetch href=https://avatars.githubusercontent.com&gt;                                             |\n",
       "| 6 |   &lt;link rel=dns-prefetch href=https://github-cloud.s3.amazonaws.com&gt;                                             |\n",
       "\n"
      ],
      "text/plain": [
       "  X..DOCTYPE.html.                                                                                                \n",
       "1 <html lang=en data-color-mode=auto data-light-theme=light data-dark-theme=dark data-a11y-animated-images=system>\n",
       "2   <head>                                                                                                        \n",
       "3     <meta charset=utf-8>                                                                                        \n",
       "4   <link rel=dns-prefetch href=https://github.githubassets.com>                                                  \n",
       "5   <link rel=dns-prefetch href=https://avatars.githubusercontent.com>                                            \n",
       "6   <link rel=dns-prefetch href=https://github-cloud.s3.amazonaws.com>                                            "
      ]
     },
     "metadata": {},
     "output_type": "display_data"
    }
   ],
   "source": [
    "head(airlines_delay)"
   ]
  },
  {
   "cell_type": "markdown",
   "id": "40d093dd-8d11-4442-85a9-c9b2ef21fc65",
   "metadata": {},
   "source": [
    "<left><em>Table 1: Raw Airlines Delay Dataset</em></left>"
   ]
  },
  {
   "cell_type": "markdown",
   "id": "907efa87-3346-447e-880d-bbf8fc52c264",
   "metadata": {},
   "source": [
    "### Clean and Wrangle Data\n",
    "\n",
    "To clean and wrangle our data, we are going to:\n",
    "\n",
    "1. Select the relevant columns for our question\n",
    "\n",
    "2. Filter out rows containing `NA`\n",
    " "
   ]
  },
  {
   "cell_type": "code",
   "execution_count": 4,
   "id": "a46f91ce-9f6d-4d04-80cb-976d314811d3",
   "metadata": {},
   "outputs": [
    {
     "ename": "ERROR",
     "evalue": "\u001b[1m\u001b[33mError\u001b[39m in \u001b[1m\u001b[1m`filter()`:\u001b[22m\n\u001b[1m\u001b[22m\u001b[33m!\u001b[39m Problem while computing `..1 = Airline %in% c(\"DL\", \"AA\")`.\n\u001b[1mCaused by error in \u001b[1m\u001b[1m`Airline %in% c(\"DL\", \"AA\")`:\u001b[22m\n\u001b[33m!\u001b[39m object 'Airline' not found\n",
     "output_type": "error",
     "traceback": [
      "\u001b[1m\u001b[33mError\u001b[39m in \u001b[1m\u001b[1m`filter()`:\u001b[22m\n\u001b[1m\u001b[22m\u001b[33m!\u001b[39m Problem while computing `..1 = Airline %in% c(\"DL\", \"AA\")`.\n\u001b[1mCaused by error in \u001b[1m\u001b[1m`Airline %in% c(\"DL\", \"AA\")`:\u001b[22m\n\u001b[33m!\u001b[39m object 'Airline' not found\nTraceback:\n",
      "1. select(mutate(filter(filter(rename(filter(airlines_delay, Airline %in% \n .     c(\"DL\", \"AA\")), Delay = Class), !is.na(Airline)), !is.na(Delay)), \n .     Delay = as.factor(Delay)), c(Airline, Delay))",
      "2. mutate(filter(filter(rename(filter(airlines_delay, Airline %in% \n .     c(\"DL\", \"AA\")), Delay = Class), !is.na(Airline)), !is.na(Delay)), \n .     Delay = as.factor(Delay))",
      "3. filter(filter(rename(filter(airlines_delay, Airline %in% c(\"DL\", \n .     \"AA\")), Delay = Class), !is.na(Airline)), !is.na(Delay))",
      "4. filter(rename(filter(airlines_delay, Airline %in% c(\"DL\", \"AA\")), \n .     Delay = Class), !is.na(Airline))",
      "5. rename(filter(airlines_delay, Airline %in% c(\"DL\", \"AA\")), Delay = Class)",
      "6. filter(airlines_delay, Airline %in% c(\"DL\", \"AA\"))",
      "7. filter.data.frame(airlines_delay, Airline %in% c(\"DL\", \"AA\"))",
      "8. filter_rows(.data, ..., caller_env = caller_env())",
      "9. filter_eval(dots, mask = mask, error_call = error_call)",
      "10. withCallingHandlers({\n  .     mask$eval_all_filter(dots, env_filter)\n  . }, error = function(e) {\n  .     local_error_context(dots = dots, .index = env_filter$current_expression, \n  .         mask = mask)\n  .     bullets <- c(cnd_bullet_header(\"computing\"), filter_bullets(e))\n  .     abort(bullets, call = error_call, parent = skip_internal_condition(e))\n  . })",
      "11. mask$eval_all_filter(dots, env_filter)",
      "12. Airline %in% c(\"DL\", \"AA\")",
      "13. .handleSimpleError(function (e) \n  . {\n  .     local_error_context(dots = dots, .index = env_filter$current_expression, \n  .         mask = mask)\n  .     bullets <- c(cnd_bullet_header(\"computing\"), filter_bullets(e))\n  .     abort(bullets, call = error_call, parent = skip_internal_condition(e))\n  . }, \"object 'Airline' not found\", base::quote(Airline %in% c(\"DL\", \n  .     \"AA\")))",
      "14. h(simpleError(msg, call))",
      "15. abort(bullets, call = error_call, parent = skip_internal_condition(e))",
      "16. signal_abort(cnd, .file)"
     ]
    }
   ],
   "source": [
    "delay_data <- airlines_delay |> \n",
    "    filter(Airline %in% c(\"DL\", \"AA\")) |> \n",
    "    rename(Delay = Class) |>\n",
    "    filter(!is.na(Airline)) |> \n",
    "    filter(!is.na(Delay)) |>\n",
    "    mutate(Delay = as.factor(Delay)) |>\n",
    "    select(c(Airline, Delay))\n",
    "\n",
    "head(delay_data)"
   ]
  },
  {
   "cell_type": "markdown",
   "id": "885ebcce-c763-4aca-ab39-9e78683c74d6",
   "metadata": {},
   "source": [
    "<left><em>Table 2: DL Airline and AA Airline Delay or Not </em></left>"
   ]
  },
  {
   "cell_type": "markdown",
   "id": "b1b0264a-230e-4627-bbb5-d294295a43fd",
   "metadata": {},
   "source": [
    "### Broad Overview of Data"
   ]
  },
  {
   "cell_type": "markdown",
   "id": "4dc57481-8eda-461d-aa68-2c3cdbdf0983",
   "metadata": {},
   "source": [
    "We are estimating the proportion of delayed flights for each airline and we added the estimated proportion to the plot as text labels, to more clearly observe the difference."
   ]
  },
  {
   "cell_type": "code",
   "execution_count": null,
   "id": "f99bbd7c-6f7e-4898-b41d-55c60fef9c86",
   "metadata": {},
   "outputs": [],
   "source": [
    "delay_summary <- delay_data %>%\n",
    "  group_by(Airline, Delay) %>%\n",
    "  summarize(count = n()) %>%\n",
    "  ungroup() %>%\n",
    "  mutate(prop = count / sum(count))\n",
    "\n",
    "plot <- delay_data |> \n",
    "  ggplot(aes(x = Airline, fill = Delay)) +\n",
    "  geom_bar(width = 0.5) + \n",
    "  ylab(\"the Number of Flights\") +\n",
    "  ggtitle(\"the Proportion of Delayed Flights of each Airlines\") +\n",
    "  scale_fill_discrete(name = \"Delay or Not\",\n",
    "                      breaks = c(\"0\", \"1\"),\n",
    "                      labels = c(\"No\", \"Yes\")) +\n",
    "  geom_text(data=delay_summary, aes(x=Airline, y=count+10, label=round(prop,2)), position=position_dodge(width=0.5))\n",
    "\n",
    "plot\n"
   ]
  },
  {
   "cell_type": "markdown",
   "id": "4f3561bf-31ee-4f04-ab52-9fd69f2e8b77",
   "metadata": {},
   "source": [
    "## Methods: Plan"
   ]
  },
  {
   "cell_type": "markdown",
   "id": "8e6b440e-2015-49e1-abd6-2db62f220284",
   "metadata": {},
   "source": [
    "In this project, we plan to use two different methods to conduct a hypothesis test about Discrepancy between the proportion of delayed flights operated by Delta Airlines and Amenrican Airline. First we will use bootstarpping method in the `infer package` and then we plan to use theory based approach to perform a hypothesis test. We will also construct confidence intervels for the difference between two proportions. We plan to conduct the hypothesis test at the most common significance level of $\\alpha = 0.05$. In the bootstraping approach, we will use permutation for the null model. For the theorem based one, we will use Central Limit Theorem two sample z test.  \n",
    "\n",
    "Our null and alternative hypothesis is:\n",
    "\n",
    "• $H_0 : p_1 = p_2$\n",
    "\n",
    "• $H_a : p_1 ≠ p_2$\n",
    "\n",
    "where:\n",
    "\n",
    "$p_1$ is the proportion of delayed flights in all flights operated by Delta Airlines\n",
    "\n",
    "$p_2$ is the proportion of delayed flights in all flights operated by American Airlines\n",
    "\n",
    "Based on the sample proportions and the graph above, we expect to reject the null hypothesis and accept the alternative that the delay rate of these two airlines is different. There are various implications of this finding: for instance, it can help passengers to make a better choice when buying flight tickets and help invester to evaluate a airline company. Future research could delve into more categories of the airlines, even outside of simply the U.S., to provide information on different flight delays to a wider range of international travellers and to investigate what might be the causes of these differences.\n",
    "\n",
    "Meanwhile, this analysis is limited because it does not tell us where this significant difference lies. We need to consider is there more test method that is more accurate to find the difference between two population other than Central Limit Theorem? \n",
    "\n"
   ]
  },
  {
   "cell_type": "markdown",
   "id": "41f03ada-1738-4941-9d66-65d124713def",
   "metadata": {},
   "source": [
    "## Reference"
   ]
  },
  {
   "cell_type": "markdown",
   "id": "bb858aad-e1ec-4314-aa17-a20ea82fab2a",
   "metadata": {},
   "source": [
    "1. FlightAware (2023). https://flightaware.com/live/cancelled/\n",
    "\n",
    "2. Pedersen, U. T. (2023).Airlines Delay. https://www.kaggle.com/datasets/ulrikthygepedersen/airlines-delay"
   ]
  },
  {
   "cell_type": "code",
   "execution_count": null,
   "id": "3ed5dc64-eaec-4aaa-b419-660ea90e1e2d",
   "metadata": {},
   "outputs": [],
   "source": []
  }
 ],
 "metadata": {
  "kernelspec": {
   "display_name": "R",
   "language": "R",
   "name": "ir"
  },
  "language_info": {
   "codemirror_mode": "r",
   "file_extension": ".r",
   "mimetype": "text/x-r-source",
   "name": "R",
   "pygments_lexer": "r",
   "version": "4.1.3"
  }
 },
 "nbformat": 4,
 "nbformat_minor": 5
}
